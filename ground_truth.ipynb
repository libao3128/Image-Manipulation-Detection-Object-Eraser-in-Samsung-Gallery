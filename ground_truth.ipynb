{
 "cells": [
  {
   "cell_type": "code",
   "execution_count": 1,
   "metadata": {},
   "outputs": [
    {
     "name": "stdout",
     "output_type": "stream",
     "text": [
      "1.jpg\n",
      "(604, 604, 3)\n",
      "(604, 604, 3)\n",
      "Image Similarity: 97.5115%\n",
      "10.jpg\n",
      "(1280, 960, 3)\n",
      "(1280, 960, 3)\n",
      "Image Similarity: 94.6086%\n",
      "11.jpg\n",
      "(1478, 1108, 3)\n",
      "(1478, 1108, 3)\n",
      "Image Similarity: 94.0281%\n",
      "12.jpg\n",
      "(1478, 1108, 3)\n",
      "(1478, 1108, 3)\n",
      "Image Similarity: 90.4270%\n",
      "13.jpg\n",
      "(1044, 1568, 3)\n",
      "(1044, 1568, 3)\n",
      "Image Similarity: 87.4022%\n",
      "14.jpg\n",
      "(185, 186, 3)\n",
      "(260, 260, 3)\n"
     ]
    },
    {
     "ename": "ValueError",
     "evalue": "Input images must have the same dimensions.",
     "output_type": "error",
     "traceback": [
      "\u001b[1;31m---------------------------------------------------------------------------\u001b[0m",
      "\u001b[1;31mValueError\u001b[0m                                Traceback (most recent call last)",
      "\u001b[1;32mc:\\Users\\USER\\OneDrive - 國立陽明交通大學\\文件\\academic\\大三下\\CV\\Final_Project\\final\\ground_truth.ipynb Cell 1'\u001b[0m in \u001b[0;36m<cell line: 7>\u001b[1;34m()\u001b[0m\n\u001b[0;32m      <a href='vscode-notebook-cell:/c%3A/Users/USER/OneDrive%20-%20%E5%9C%8B%E7%AB%8B%E9%99%BD%E6%98%8E%E4%BA%A4%E9%80%9A%E5%A4%A7%E5%AD%B8/%E6%96%87%E4%BB%B6/academic/%E5%A4%A7%E4%B8%89%E4%B8%8B/CV/Final_Project/final/ground_truth.ipynb#ch0000000?line=6'>7</a>\u001b[0m \u001b[39mfor\u001b[39;00m name \u001b[39min\u001b[39;00m \u001b[39mlist\u001b[39m:\n\u001b[0;32m      <a href='vscode-notebook-cell:/c%3A/Users/USER/OneDrive%20-%20%E5%9C%8B%E7%AB%8B%E9%99%BD%E6%98%8E%E4%BA%A4%E9%80%9A%E5%A4%A7%E5%AD%B8/%E6%96%87%E4%BB%B6/academic/%E5%A4%A7%E4%B8%89%E4%B8%8B/CV/Final_Project/final/ground_truth.ipynb#ch0000000?line=8'>9</a>\u001b[0m     \u001b[39mprint\u001b[39m(name)\n\u001b[1;32m---> <a href='vscode-notebook-cell:/c%3A/Users/USER/OneDrive%20-%20%E5%9C%8B%E7%AB%8B%E9%99%BD%E6%98%8E%E4%BA%A4%E9%80%9A%E5%A4%A7%E5%AD%B8/%E6%96%87%E4%BB%B6/academic/%E5%A4%A7%E4%B8%89%E4%B8%8B/CV/Final_Project/final/ground_truth.ipynb#ch0000000?line=9'>10</a>\u001b[0m     build_groud_truth(name,org_path,name,fake_path,\u001b[39m\"\u001b[39;49m\u001b[39m\"\u001b[39;49m)\n",
      "File \u001b[1;32mc:\\Users\\USER\\OneDrive - 國立陽明交通大學\\文件\\academic\\大三下\\CV\\Final_Project\\final\\ground_truth.py:19\u001b[0m, in \u001b[0;36mbuild_groud_truth\u001b[1;34m(org_name, org_dir, forge_name, forge_dir, type)\u001b[0m\n\u001b[0;32m     16\u001b[0m after_gray \u001b[39m=\u001b[39m cv2\u001b[39m.\u001b[39mcvtColor(after, cv2\u001b[39m.\u001b[39mCOLOR_BGR2GRAY)\n\u001b[0;32m     18\u001b[0m \u001b[39m# Compute SSIM between the two images\u001b[39;00m\n\u001b[1;32m---> 19\u001b[0m (score, diff) \u001b[39m=\u001b[39m structural_similarity(before_gray, after_gray, full\u001b[39m=\u001b[39;49m\u001b[39mTrue\u001b[39;49;00m)\n\u001b[0;32m     20\u001b[0m \u001b[39mprint\u001b[39m(\u001b[39m\"\u001b[39m\u001b[39mImage Similarity: \u001b[39m\u001b[39m{:.4f}\u001b[39;00m\u001b[39m%\u001b[39m\u001b[39m\"\u001b[39m\u001b[39m.\u001b[39mformat(score \u001b[39m*\u001b[39m \u001b[39m100\u001b[39m))\n\u001b[0;32m     22\u001b[0m \u001b[39m# The diff image contains the actual image differences between the two images\u001b[39;00m\n\u001b[0;32m     23\u001b[0m \u001b[39m# and is represented as a floating point data type in the range [0,1] \u001b[39;00m\n\u001b[0;32m     24\u001b[0m \u001b[39m# so we must convert the array to 8-bit unsigned integers in the range\u001b[39;00m\n\u001b[0;32m     25\u001b[0m \n\u001b[0;32m     26\u001b[0m \u001b[39m# [0,255] before we can use it with OpenCV\u001b[39;00m\n",
      "File \u001b[1;32mc:\\Users\\USER\\AppData\\Local\\Programs\\Python\\Python310\\lib\\site-packages\\skimage\\_shared\\utils.py:348\u001b[0m, in \u001b[0;36mdeprecate_multichannel_kwarg.__call__.<locals>.fixed_func\u001b[1;34m(*args, **kwargs)\u001b[0m\n\u001b[0;32m    345\u001b[0m     kwargs[\u001b[39m'\u001b[39m\u001b[39mchannel_axis\u001b[39m\u001b[39m'\u001b[39m] \u001b[39m=\u001b[39m convert[kwargs\u001b[39m.\u001b[39mpop(\u001b[39m'\u001b[39m\u001b[39mmultichannel\u001b[39m\u001b[39m'\u001b[39m)]\n\u001b[0;32m    347\u001b[0m \u001b[39m# Call the function with the fixed arguments\u001b[39;00m\n\u001b[1;32m--> 348\u001b[0m \u001b[39mreturn\u001b[39;00m func(\u001b[39m*\u001b[39margs, \u001b[39m*\u001b[39m\u001b[39m*\u001b[39mkwargs)\n",
      "File \u001b[1;32mc:\\Users\\USER\\AppData\\Local\\Programs\\Python\\Python310\\lib\\site-packages\\skimage\\metrics\\_structural_similarity.py:101\u001b[0m, in \u001b[0;36mstructural_similarity\u001b[1;34m(im1, im2, win_size, gradient, data_range, channel_axis, multichannel, gaussian_weights, full, **kwargs)\u001b[0m\n\u001b[0;32m     15\u001b[0m \u001b[39m@utils\u001b[39m\u001b[39m.\u001b[39mdeprecate_multichannel_kwarg()\n\u001b[0;32m     16\u001b[0m \u001b[39mdef\u001b[39;00m \u001b[39mstructural_similarity\u001b[39m(im1, im2,\n\u001b[0;32m     17\u001b[0m                           \u001b[39m*\u001b[39m,\n\u001b[0;32m     18\u001b[0m                           win_size\u001b[39m=\u001b[39m\u001b[39mNone\u001b[39;00m, gradient\u001b[39m=\u001b[39m\u001b[39mFalse\u001b[39;00m, data_range\u001b[39m=\u001b[39m\u001b[39mNone\u001b[39;00m,\n\u001b[0;32m     19\u001b[0m                           channel_axis\u001b[39m=\u001b[39m\u001b[39mNone\u001b[39;00m, multichannel\u001b[39m=\u001b[39m\u001b[39mFalse\u001b[39;00m,\n\u001b[0;32m     20\u001b[0m                           gaussian_weights\u001b[39m=\u001b[39m\u001b[39mFalse\u001b[39;00m, full\u001b[39m=\u001b[39m\u001b[39mFalse\u001b[39;00m, \u001b[39m*\u001b[39m\u001b[39m*\u001b[39mkwargs):\n\u001b[0;32m     21\u001b[0m     \u001b[39m\"\"\"\u001b[39;00m\n\u001b[0;32m     22\u001b[0m \u001b[39m    Compute the mean structural similarity index between two images.\u001b[39;00m\n\u001b[0;32m     23\u001b[0m \n\u001b[1;32m   (...)\u001b[0m\n\u001b[0;32m     99\u001b[0m \n\u001b[0;32m    100\u001b[0m \u001b[39m    \"\"\"\u001b[39;00m\n\u001b[1;32m--> 101\u001b[0m     check_shape_equality(im1, im2)\n\u001b[0;32m    102\u001b[0m     float_type \u001b[39m=\u001b[39m _supported_float_type(im1\u001b[39m.\u001b[39mdtype)\n\u001b[0;32m    104\u001b[0m     \u001b[39mif\u001b[39;00m channel_axis \u001b[39mis\u001b[39;00m \u001b[39mnot\u001b[39;00m \u001b[39mNone\u001b[39;00m:\n\u001b[0;32m    105\u001b[0m         \u001b[39m# loop over channels\u001b[39;00m\n",
      "File \u001b[1;32mc:\\Users\\USER\\AppData\\Local\\Programs\\Python\\Python310\\lib\\site-packages\\skimage\\_shared\\utils.py:569\u001b[0m, in \u001b[0;36mcheck_shape_equality\u001b[1;34m(im1, im2)\u001b[0m\n\u001b[0;32m    567\u001b[0m \u001b[39m\"\"\"Raise an error if the shape do not match.\"\"\"\u001b[39;00m\n\u001b[0;32m    568\u001b[0m \u001b[39mif\u001b[39;00m \u001b[39mnot\u001b[39;00m im1\u001b[39m.\u001b[39mshape \u001b[39m==\u001b[39m im2\u001b[39m.\u001b[39mshape:\n\u001b[1;32m--> 569\u001b[0m     \u001b[39mraise\u001b[39;00m \u001b[39mValueError\u001b[39;00m(\u001b[39m'\u001b[39m\u001b[39mInput images must have the same dimensions.\u001b[39m\u001b[39m'\u001b[39m)\n\u001b[0;32m    570\u001b[0m \u001b[39mreturn\u001b[39;00m\n",
      "\u001b[1;31mValueError\u001b[0m: Input images must have the same dimensions."
     ]
    }
   ],
   "source": [
    "from ground_truth import build_groud_truth\n",
    "import os \n",
    "list = os.listdir('data/forgery/')\n",
    "org_path = r'data\\real/'\n",
    "\n",
    "fake_path = r'data\\forgery/'\n",
    "for name in list:\n",
    "\n",
    "    print(name)\n",
    "    build_groud_truth(name,org_path,name,fake_path,\"\")\n",
    "\n"
   ]
  }
 ],
 "metadata": {
  "interpreter": {
   "hash": "df95319d8ce4e1d89f5365ae10992bc1f65da593082b1d264e8f529830ec2f02"
  },
  "kernelspec": {
   "display_name": "Python 3.10.4 64-bit",
   "language": "python",
   "name": "python3"
  },
  "language_info": {
   "codemirror_mode": {
    "name": "ipython",
    "version": 3
   },
   "file_extension": ".py",
   "mimetype": "text/x-python",
   "name": "python",
   "nbconvert_exporter": "python",
   "pygments_lexer": "ipython3",
   "version": "3.10.4"
  },
  "orig_nbformat": 4
 },
 "nbformat": 4,
 "nbformat_minor": 2
}
